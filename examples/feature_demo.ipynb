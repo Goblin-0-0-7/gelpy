{
 "cells": [
  {
   "attachments": {},
   "cell_type": "markdown",
   "metadata": {},
   "source": [
    "# GelPy demo\n",
    "\n",
    "## Statement of need\n",
    "\n",
    "Quantitative gel analysis has been an intricate and time-consuming task for life scientists, often hindering prompt data-driven decisions. This Python package, designed for rapid, simple, and reproducible extraction of quantitative data from gel electrophoresis images, could significantly streamline this process. By lowering barriers to performing gel analysis, it empowers more researchers to exploit this method effectively, enriching the scientific discourse.\n",
    "\n",
    "## Outline of this notebook\n",
    "\n",
    "1. Introduction/Motivation\n",
    "* Reproducability\n",
    "* Fiji works, but is painfull\n",
    "* If one wants to work with the quantitative data afetrwards, e.g. for some plots, one has to export the file from e.g. Fiji and read it in again in e.g. python. -> way better to have all of the interesting data as python objects.\n",
    "* It can be hard to discriminate two bands, which are close together, using hard integration cutoffs, potentially introducing errors. A fitting process does better.\n",
    "\n",
    "2. Live demonstration\n",
    "\n",
    "* Load an image and describe valid input images\n",
    "* setting up a gel\n",
    "* removing background with some explaination what is done\n",
    "* show and save adjusted images\n",
    "    * If all you need is to have a labelled and contrast adjusted image, then here you go, no more powerpoint or such needed (ladder labels coming soon). BUT, I'd like to convince you that with this package, the quantitative data is just a minute away.\n",
    "* show selection of lanes by name or index\n",
    "* show fitting with gaussian or emg of e.g. ladders or a merged peak.\n",
    "* show the \"extraction\" of the data from the gel object and use it to do some further computations (e.g. plot folding yield of origami). Or normalizing the intensities to a specific band or something.\n",
    "* report example issue on github\n",
    "\n",
    "3. Discussion of benefits, potential improvements and issues\n",
    "\n",
    "* Peak selection is still parameter sensitive, meaning that one has to tweak some parameters if too many or not enough peaks are recognized for fitting.\n",
    "* There is still no function to recognize and label DNA/RNA/protein ladders. \n",
    "* Still using a single processor, so the fitting scales with the number of bands* the number of lanes linearly (xx seconds per band on my machine)\n",
    "\n",
    "4. Call for others to test, report issues on github, contribute and share\n",
    "* I tested it on images I had lying around, it will likely have issues when you try it on different cases. I am actually hoping it does, and I am hoping even more that you are motivated to report them as issues on github so I can work on them, or, if you are also keen to contribute to your first python package, just fix it yourself and submit a merge request."
   ]
  },
  {
   "cell_type": "code",
   "execution_count": null,
   "metadata": {
    "vscode": {
     "languageId": "plaintext"
    }
   },
   "outputs": [],
   "source": [
    "from gelpy import AgaroseGel\n",
    "\n",
    "gel = AgaroseGel(\"data/20230317_first_fold_cy3_500v-[Cy3]-1.tif\")\n",
    "gel.setup_gel(labels=['1kb ladder', 'scaf', '0b', '0b', '0b', '4b', '4b', '4b', '6b', '6b', '6b'], x_label_pos=(120, 1910, 11),\n",
    "              line_profile_width=100)\n",
    "gel.remove_background(model=\"2d_plane_fit\")"
   ]
  },
  {
   "cell_type": "code",
   "execution_count": null,
   "metadata": {
    "vscode": {
     "languageId": "plaintext"
    }
   },
   "outputs": [],
   "source": [
    "gel.show_adjusted_images(show_type=\"linear\")\n",
    "gel.show_line_profiles(select_lanes=[0,1],\n",
    "                       slice_line_profile_length=(100, 900),\n",
    "                       fit=\"gaussian\",\n",
    "                       maxima_prominence=0.0005, maxima_threshold=0.001,\n",
    "                       plot_fits=True)"
   ]
  }
 ],
 "metadata": {
  "language_info": {
   "name": "python"
  },
  "orig_nbformat": 4
 },
 "nbformat": 4,
 "nbformat_minor": 2
}
