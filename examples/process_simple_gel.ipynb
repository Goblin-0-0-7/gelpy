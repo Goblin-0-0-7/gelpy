{
 "cells": [
  {
   "cell_type": "code",
   "execution_count": 2,
   "metadata": {},
   "outputs": [
    {
     "ename": "TypeError",
     "evalue": "Image.save_fig() missing 1 required positional argument: 'fig'",
     "output_type": "error",
     "traceback": [
      "\u001b[0;31m---------------------------------------------------------------------------\u001b[0m",
      "\u001b[0;31mTypeError\u001b[0m                                 Traceback (most recent call last)",
      "Cell \u001b[0;32mIn[2], line 5\u001b[0m\n\u001b[1;32m      1\u001b[0m \u001b[39mfrom\u001b[39;00m \u001b[39mgelpy\u001b[39;00m \u001b[39mimport\u001b[39;00m AgaroseGel\n\u001b[1;32m      3\u001b[0m gel \u001b[39m=\u001b[39m AgaroseGel(\u001b[39m\"\u001b[39m\u001b[39mdata/20230317_first_fold_cy3_500v-[Cy3]-1.tif\u001b[39m\u001b[39m\"\u001b[39m,\n\u001b[1;32m      4\u001b[0m                  labels\u001b[39m=\u001b[39m[\u001b[39m'\u001b[39m\u001b[39m1kb ladder\u001b[39m\u001b[39m'\u001b[39m, \u001b[39m'\u001b[39m\u001b[39mscaf\u001b[39m\u001b[39m'\u001b[39m, \u001b[39m'\u001b[39m\u001b[39m0b\u001b[39m\u001b[39m'\u001b[39m, \u001b[39m'\u001b[39m\u001b[39m0b\u001b[39m\u001b[39m'\u001b[39m, \u001b[39m'\u001b[39m\u001b[39m0b\u001b[39m\u001b[39m'\u001b[39m, \u001b[39m'\u001b[39m\u001b[39m4b\u001b[39m\u001b[39m'\u001b[39m, \u001b[39m'\u001b[39m\u001b[39m4b\u001b[39m\u001b[39m'\u001b[39m, \u001b[39m'\u001b[39m\u001b[39m4b\u001b[39m\u001b[39m'\u001b[39m, \u001b[39m'\u001b[39m\u001b[39m6b\u001b[39m\u001b[39m'\u001b[39m, \u001b[39m'\u001b[39m\u001b[39m6b\u001b[39m\u001b[39m'\u001b[39m, \u001b[39m'\u001b[39m\u001b[39m6b\u001b[39m\u001b[39m'\u001b[39m])\n\u001b[0;32m----> 5\u001b[0m gel\u001b[39m.\u001b[39mshow_adjusted_images(x_label_pos\u001b[39m=\u001b[39m(\u001b[39m120\u001b[39m, \u001b[39m1900\u001b[39m, \u001b[39m11\u001b[39m), save\u001b[39m=\u001b[39m\u001b[39mTrue\u001b[39;00m)\n\u001b[1;32m      6\u001b[0m gel\u001b[39m.\u001b[39mshow_line_profiles(select_lanes\u001b[39m=\u001b[39m[\u001b[39m\"\u001b[39m\u001b[39m0b\u001b[39m\u001b[39m\"\u001b[39m, \u001b[39m\"\u001b[39m\u001b[39m4b\u001b[39m\u001b[39m\"\u001b[39m],\n\u001b[1;32m      7\u001b[0m                        slice_line_profile_length\u001b[39m=\u001b[39m(\u001b[39m100\u001b[39m, \u001b[39m900\u001b[39m),\n\u001b[1;32m      8\u001b[0m                        fit\u001b[39m=\u001b[39m\u001b[39m\"\u001b[39m\u001b[39mgaussian\u001b[39m\u001b[39m\"\u001b[39m,\n\u001b[1;32m      9\u001b[0m                        maxima_prominence\u001b[39m=\u001b[39m\u001b[39m0.0005\u001b[39m, maxima_threshold\u001b[39m=\u001b[39m\u001b[39m0.001\u001b[39m,\n\u001b[1;32m     10\u001b[0m                        plot_fits\u001b[39m=\u001b[39m\u001b[39mTrue\u001b[39;00m)\n",
      "File \u001b[0;32m~/GelPy/gelpy/package_api.py:24\u001b[0m, in \u001b[0;36mAgaroseGel.show_adjusted_images\u001b[0;34m(self, x_label_pos, gamma, gain, intensity_range, img_height_factor, label_rotation, save)\u001b[0m\n\u001b[1;32m     22\u001b[0m \u001b[39mself\u001b[39m\u001b[39m.\u001b[39mImage\u001b[39m.\u001b[39madjust_img_contrast_linear()\n\u001b[1;32m     23\u001b[0m \u001b[39mif\u001b[39;00m save:\n\u001b[0;32m---> 24\u001b[0m     \u001b[39mself\u001b[39m\u001b[39m.\u001b[39mImage\u001b[39m.\u001b[39msave_fig()\n\u001b[1;32m     25\u001b[0m \u001b[39mself\u001b[39m\u001b[39m.\u001b[39mx_label_positions \u001b[39m=\u001b[39m \u001b[39mself\u001b[39m\u001b[39m.\u001b[39mImage\u001b[39m.\u001b[39mplot_adjusted_gels()\n\u001b[1;32m     26\u001b[0m \u001b[39mreturn\u001b[39;00m\n",
      "\u001b[0;31mTypeError\u001b[0m: Image.save_fig() missing 1 required positional argument: 'fig'"
     ]
    }
   ],
   "source": [
    "from gelpy import AgaroseGel\n",
    "\n",
    "gel = AgaroseGel(\"data/20230317_first_fold_cy3_500v-[Cy3]-1.tif\",\n",
    "                 labels=['1kb ladder', 'scaf', '0b', '0b', '0b', '4b', '4b', '4b', '6b', '6b', '6b'])\n",
    "gel.show_adjusted_images(x_label_pos=(120, 1900, 11), save=True)\n",
    "gel.show_line_profiles(select_lanes=[\"0b\", \"4b\"],\n",
    "                       slice_line_profile_length=(100, 900),\n",
    "                       fit=\"gaussian\",\n",
    "                       maxima_prominence=0.0005, maxima_threshold=0.001,\n",
    "                       plot_fits=True)\n",
    "# gel.show_line_profiles(select_lanes=[0],\n",
    "#                        slice_line_profile_length=(100, 900),\n",
    "#                        fit=\"emg\",\n",
    "#                        maxima_prominence=0.0009, maxima_threshold=0.001,\n",
    "#                        plot_fits=True)"
   ]
  },
  {
   "cell_type": "code",
   "execution_count": null,
   "metadata": {},
   "outputs": [],
   "source": []
  }
 ],
 "metadata": {
  "kernelspec": {
   "display_name": "all_purpose",
   "language": "python",
   "name": "python3"
  },
  "language_info": {
   "codemirror_mode": {
    "name": "ipython",
    "version": 3
   },
   "file_extension": ".py",
   "mimetype": "text/x-python",
   "name": "python",
   "nbconvert_exporter": "python",
   "pygments_lexer": "ipython3",
   "version": "3.11.3"
  },
  "orig_nbformat": 4
 },
 "nbformat": 4,
 "nbformat_minor": 2
}
